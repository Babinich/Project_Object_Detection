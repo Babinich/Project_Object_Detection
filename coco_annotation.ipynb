{
 "cells": [
  {
   "cell_type": "markdown",
   "metadata": {},
   "source": [
    "# Creating a data set for YOLOV11 - TACO data set\n",
    "\n",
    "- I want to work on 90 images, each containing annotations for: plastic straw and glass bottle"
   ]
  },
  {
   "cell_type": "code",
   "execution_count": 169,
   "metadata": {},
   "outputs": [],
   "source": [
    "import json\n",
    "\n",
    "# Open and read the JSON file\n",
    "with open('datasets\\\\taco_dataset\\\\annotations.json', 'r') as file:\n",
    "    data = json.load(file)"
   ]
  },
  {
   "cell_type": "code",
   "execution_count": 170,
   "metadata": {},
   "outputs": [
    {
     "data": {
      "text/plain": [
       "dict_keys(['info', 'images', 'annotations', 'scene_annotations', 'licenses', 'categories', 'scene_categories'])"
      ]
     },
     "execution_count": 170,
     "metadata": {},
     "output_type": "execute_result"
    }
   ],
   "source": [
    "data.keys()"
   ]
  },
  {
   "cell_type": "code",
   "execution_count": 171,
   "metadata": {},
   "outputs": [
    {
     "data": {
      "text/plain": [
       "[{'supercategory': 'Aluminium foil', 'id': 0, 'name': 'Aluminium foil'},\n",
       " {'supercategory': 'Battery', 'id': 1, 'name': 'Battery'},\n",
       " {'supercategory': 'Blister pack', 'id': 2, 'name': 'Aluminium blister pack'},\n",
       " {'supercategory': 'Blister pack', 'id': 3, 'name': 'Carded blister pack'},\n",
       " {'supercategory': 'Bottle', 'id': 4, 'name': 'Other plastic bottle'},\n",
       " {'supercategory': 'Bottle', 'id': 5, 'name': 'Clear plastic bottle'},\n",
       " {'supercategory': 'Bottle', 'id': 6, 'name': 'Glass bottle'},\n",
       " {'supercategory': 'Bottle cap', 'id': 7, 'name': 'Plastic bottle cap'},\n",
       " {'supercategory': 'Bottle cap', 'id': 8, 'name': 'Metal bottle cap'},\n",
       " {'supercategory': 'Broken glass', 'id': 9, 'name': 'Broken glass'},\n",
       " {'supercategory': 'Can', 'id': 10, 'name': 'Food Can'},\n",
       " {'supercategory': 'Can', 'id': 11, 'name': 'Aerosol'},\n",
       " {'supercategory': 'Can', 'id': 12, 'name': 'Drink can'},\n",
       " {'supercategory': 'Carton', 'id': 13, 'name': 'Toilet tube'},\n",
       " {'supercategory': 'Carton', 'id': 14, 'name': 'Other carton'},\n",
       " {'supercategory': 'Carton', 'id': 15, 'name': 'Egg carton'},\n",
       " {'supercategory': 'Carton', 'id': 16, 'name': 'Drink carton'},\n",
       " {'supercategory': 'Carton', 'id': 17, 'name': 'Corrugated carton'},\n",
       " {'supercategory': 'Carton', 'id': 18, 'name': 'Meal carton'},\n",
       " {'supercategory': 'Carton', 'id': 19, 'name': 'Pizza box'},\n",
       " {'supercategory': 'Cup', 'id': 20, 'name': 'Paper cup'},\n",
       " {'supercategory': 'Cup', 'id': 21, 'name': 'Disposable plastic cup'},\n",
       " {'supercategory': 'Cup', 'id': 22, 'name': 'Foam cup'},\n",
       " {'supercategory': 'Cup', 'id': 23, 'name': 'Glass cup'},\n",
       " {'supercategory': 'Cup', 'id': 24, 'name': 'Other plastic cup'},\n",
       " {'supercategory': 'Food waste', 'id': 25, 'name': 'Food waste'},\n",
       " {'supercategory': 'Glass jar', 'id': 26, 'name': 'Glass jar'},\n",
       " {'supercategory': 'Lid', 'id': 27, 'name': 'Plastic lid'},\n",
       " {'supercategory': 'Lid', 'id': 28, 'name': 'Metal lid'},\n",
       " {'supercategory': 'Other plastic', 'id': 29, 'name': 'Other plastic'},\n",
       " {'supercategory': 'Paper', 'id': 30, 'name': 'Magazine paper'},\n",
       " {'supercategory': 'Paper', 'id': 31, 'name': 'Tissues'},\n",
       " {'supercategory': 'Paper', 'id': 32, 'name': 'Wrapping paper'},\n",
       " {'supercategory': 'Paper', 'id': 33, 'name': 'Normal paper'},\n",
       " {'supercategory': 'Paper bag', 'id': 34, 'name': 'Paper bag'},\n",
       " {'supercategory': 'Paper bag', 'id': 35, 'name': 'Plastified paper bag'},\n",
       " {'supercategory': 'Plastic bag & wrapper', 'id': 36, 'name': 'Plastic film'},\n",
       " {'supercategory': 'Plastic bag & wrapper',\n",
       "  'id': 37,\n",
       "  'name': 'Six pack rings'},\n",
       " {'supercategory': 'Plastic bag & wrapper', 'id': 38, 'name': 'Garbage bag'},\n",
       " {'supercategory': 'Plastic bag & wrapper',\n",
       "  'id': 39,\n",
       "  'name': 'Other plastic wrapper'},\n",
       " {'supercategory': 'Plastic bag & wrapper',\n",
       "  'id': 40,\n",
       "  'name': 'Single-use carrier bag'},\n",
       " {'supercategory': 'Plastic bag & wrapper',\n",
       "  'id': 41,\n",
       "  'name': 'Polypropylene bag'},\n",
       " {'supercategory': 'Plastic bag & wrapper', 'id': 42, 'name': 'Crisp packet'},\n",
       " {'supercategory': 'Plastic container', 'id': 43, 'name': 'Spread tub'},\n",
       " {'supercategory': 'Plastic container', 'id': 44, 'name': 'Tupperware'},\n",
       " {'supercategory': 'Plastic container',\n",
       "  'id': 45,\n",
       "  'name': 'Disposable food container'},\n",
       " {'supercategory': 'Plastic container',\n",
       "  'id': 46,\n",
       "  'name': 'Foam food container'},\n",
       " {'supercategory': 'Plastic container',\n",
       "  'id': 47,\n",
       "  'name': 'Other plastic container'},\n",
       " {'supercategory': 'Plastic glooves', 'id': 48, 'name': 'Plastic glooves'},\n",
       " {'supercategory': 'Plastic utensils', 'id': 49, 'name': 'Plastic utensils'},\n",
       " {'supercategory': 'Pop tab', 'id': 50, 'name': 'Pop tab'},\n",
       " {'supercategory': 'Rope & strings', 'id': 51, 'name': 'Rope & strings'},\n",
       " {'supercategory': 'Scrap metal', 'id': 52, 'name': 'Scrap metal'},\n",
       " {'supercategory': 'Shoe', 'id': 53, 'name': 'Shoe'},\n",
       " {'supercategory': 'Squeezable tube', 'id': 54, 'name': 'Squeezable tube'},\n",
       " {'supercategory': 'Straw', 'id': 55, 'name': 'Plastic straw'},\n",
       " {'supercategory': 'Straw', 'id': 56, 'name': 'Paper straw'},\n",
       " {'supercategory': 'Styrofoam piece', 'id': 57, 'name': 'Styrofoam piece'},\n",
       " {'supercategory': 'Unlabeled litter', 'id': 58, 'name': 'Unlabeled litter'},\n",
       " {'supercategory': 'Cigarette', 'id': 59, 'name': 'Cigarette'}]"
      ]
     },
     "execution_count": 171,
     "metadata": {},
     "output_type": "execute_result"
    }
   ],
   "source": [
    "data['categories']"
   ]
  },
  {
   "cell_type": "code",
   "execution_count": 172,
   "metadata": {},
   "outputs": [
    {
     "data": {
      "text/plain": [
       "{'id': 1,\n",
       " 'image_id': 0,\n",
       " 'category_id': 6,\n",
       " 'segmentation': [[561.0,\n",
       "   1238.0,\n",
       "   568.0,\n",
       "   1201.0,\n",
       "   567.0,\n",
       "   1175.0,\n",
       "   549.0,\n",
       "   1127.0,\n",
       "   538.0,\n",
       "   1089.0,\n",
       "   519.0,\n",
       "   1043.0,\n",
       "   517.0,\n",
       "   1005.0,\n",
       "   523.0,\n",
       "   964.0,\n",
       "   529.0,\n",
       "   945.0,\n",
       "   520.0,\n",
       "   896.0,\n",
       "   525.0,\n",
       "   862.0,\n",
       "   536.0,\n",
       "   821.0,\n",
       "   554.0,\n",
       "   769.0,\n",
       "   577.0,\n",
       "   727.0,\n",
       "   595.0,\n",
       "   678.0,\n",
       "   596.0,\n",
       "   585.0,\n",
       "   588.0,\n",
       "   346.0,\n",
       "   581.0,\n",
       "   328.0,\n",
       "   569.0,\n",
       "   306.0,\n",
       "   570.0,\n",
       "   276.0,\n",
       "   576.0,\n",
       "   224.0,\n",
       "   560.0,\n",
       "   205.0,\n",
       "   564.0,\n",
       "   170.0,\n",
       "   578.0,\n",
       "   154.0,\n",
       "   608.0,\n",
       "   136.0,\n",
       "   649.0,\n",
       "   127.0,\n",
       "   688.0,\n",
       "   127.0,\n",
       "   726.0,\n",
       "   129.0,\n",
       "   759.0,\n",
       "   141.0,\n",
       "   784.0,\n",
       "   153.0,\n",
       "   792.0,\n",
       "   177.0,\n",
       "   788.0,\n",
       "   193.0,\n",
       "   782.0,\n",
       "   209.0,\n",
       "   792.0,\n",
       "   238.0,\n",
       "   802.0,\n",
       "   271.0,\n",
       "   802.0,\n",
       "   294.0,\n",
       "   791.0,\n",
       "   319.0,\n",
       "   789.0,\n",
       "   360.0,\n",
       "   794.0,\n",
       "   395.0,\n",
       "   810.0,\n",
       "   529.0,\n",
       "   819.0,\n",
       "   609.0,\n",
       "   841.0,\n",
       "   675.0,\n",
       "   882.0,\n",
       "   728.0,\n",
       "   916.0,\n",
       "   781.0,\n",
       "   928.0,\n",
       "   802.0,\n",
       "   938.0,\n",
       "   834.0,\n",
       "   940.0,\n",
       "   856.0,\n",
       "   939.0,\n",
       "   873.0,\n",
       "   938.0,\n",
       "   884.0,\n",
       "   944.0,\n",
       "   901.0,\n",
       "   951.0,\n",
       "   917.0,\n",
       "   956.0,\n",
       "   942.0,\n",
       "   960.0,\n",
       "   972.0,\n",
       "   964.0,\n",
       "   1013.0,\n",
       "   959.0,\n",
       "   1036.0,\n",
       "   952.0,\n",
       "   1081.0,\n",
       "   952.0,\n",
       "   1106.0,\n",
       "   934.0,\n",
       "   1163.0,\n",
       "   935.0,\n",
       "   1174.0,\n",
       "   949.0,\n",
       "   1209.0,\n",
       "   954.0,\n",
       "   1235.0,\n",
       "   952.0,\n",
       "   1273.0,\n",
       "   953.0,\n",
       "   1296.0,\n",
       "   946.0,\n",
       "   1320.0,\n",
       "   930.0,\n",
       "   1347.0,\n",
       "   914.0,\n",
       "   1367.0,\n",
       "   898.0,\n",
       "   1388.0,\n",
       "   855.0,\n",
       "   1419.0,\n",
       "   821.0,\n",
       "   1437.0,\n",
       "   769.0,\n",
       "   1449.0,\n",
       "   728.0,\n",
       "   1448.0,\n",
       "   687.0,\n",
       "   1439.0,\n",
       "   645.0,\n",
       "   1419.0,\n",
       "   618.0,\n",
       "   1397.0,\n",
       "   582.0,\n",
       "   1348.0,\n",
       "   572.0,\n",
       "   1314.0,\n",
       "   564.0,\n",
       "   1279.0,\n",
       "   561.0,\n",
       "   1253.0,\n",
       "   561.0,\n",
       "   1238.0]],\n",
       " 'area': 403954.0,\n",
       " 'bbox': [517.0, 127.0, 447.0, 1322.0],\n",
       " 'iscrowd': 0}"
      ]
     },
     "execution_count": 172,
     "metadata": {},
     "output_type": "execute_result"
    }
   ],
   "source": [
    "# categories\n",
    "data['annotations'][0]\n",
    "\n",
    "# id : 12 -> drink can \n",
    "# id: 6 -> glass bottle"
   ]
  },
  {
   "cell_type": "code",
   "execution_count": 173,
   "metadata": {},
   "outputs": [
    {
     "name": "stdout",
     "output_type": "stream",
     "text": [
      "Count of images with drink cans:\n",
      "151\n",
      "Count of images with glass bottles:\n",
      "74\n"
     ]
    }
   ],
   "source": [
    "\n",
    "# Category IDs we're interested in\n",
    "\n",
    "target_categories = {\n",
    "    12: {'ann': [], 'img_ids': set()}, # drink can \n",
    "    6: {'ann': [], 'img_ids': set()}   # glass bottle\n",
    "}\n",
    "\n",
    "for annotation in data['annotations']:\n",
    "    img_id = annotation['image_id']\n",
    "    category_id = annotation['category_id']\n",
    "\n",
    "    if category_id in target_categories:\n",
    "        target_categories[category_id]['ann'].append(annotation)\n",
    "        target_categories[category_id]['img_ids'].add(img_id)\n",
    "\n",
    "# Example access:\n",
    "print(\"Count of images with drink cans:\")\n",
    "print(len(target_categories[12]['img_ids']))\n",
    "print(\"Count of images with glass bottles:\")\n",
    "print(len(target_categories[6]['img_ids']))"
   ]
  },
  {
   "cell_type": "code",
   "execution_count": 174,
   "metadata": {},
   "outputs": [
    {
     "name": "stdout",
     "output_type": "stream",
     "text": [
      "{764, 582, 1320, 460, 116, 860}\n",
      "{764, 582, 1320, 460, 116, 860}\n"
     ]
    }
   ],
   "source": [
    "# removing images that have annotaitons from both categories\n",
    "common_img_ids = target_categories[6]['img_ids'] & target_categories[12]['img_ids']\n",
    "print(common_img_ids)\n",
    "target_categories[12]['img_ids'].difference_update(common_img_ids)\n",
    "target_categories[6]['img_ids'].difference_update(common_img_ids)\n",
    "print(common_img_ids)"
   ]
  },
  {
   "cell_type": "code",
   "execution_count": 175,
   "metadata": {},
   "outputs": [],
   "source": [
    "target_categories[12]['img_ids'] = list(target_categories[12]['img_ids'])[:50]\n",
    "target_categories[6]['img_ids'] = list(target_categories[6]['img_ids'])[:50]\n",
    "\n"
   ]
  },
  {
   "cell_type": "code",
   "execution_count": 176,
   "metadata": {},
   "outputs": [
    {
     "data": {
      "text/plain": [
       "(83, 71)"
      ]
     },
     "execution_count": 176,
     "metadata": {},
     "output_type": "execute_result"
    }
   ],
   "source": [
    "# Create a new list with valid annotations for category 12\n",
    "valid_annotations_cat_12 = [annotation for annotation in target_categories[12]['ann']\n",
    "                            if annotation['image_id'] in target_categories[12]['img_ids']]\n",
    "\n",
    "# Update the annotations list\n",
    "target_categories[12]['ann'] = valid_annotations_cat_12\n",
    "\n",
    "# Create a new list with valid annotations for category 6\n",
    "valid_annotations_cat_6 = [annotation for annotation in target_categories[6]['ann']\n",
    "                           if annotation['image_id'] in target_categories[6]['img_ids']]\n",
    "\n",
    "# Update the annotations list\n",
    "target_categories[6]['ann'] = valid_annotations_cat_6\n",
    "\n",
    "# Check the lengths of the valid annotations\n",
    "len(target_categories[12]['ann']), len(target_categories[6]['ann'])\n"
   ]
  },
  {
   "cell_type": "code",
   "execution_count": 177,
   "metadata": {},
   "outputs": [],
   "source": [
    "# creating final rows of data\n",
    "images = data['images']\n",
    "final_images = []\n",
    "# added this additional parameter to make it easier for splitting, as there are no images that have annotations of differnt types\n",
    "for row in images:\n",
    "    if row['id'] in target_categories[12]['img_ids']:\n",
    "        row['category_id'] = 1 \n",
    "\n",
    "    if row['id'] in target_categories[6]['img_ids']:\n",
    "        row['category_id'] = 2\n",
    "\n",
    "    if row['id'] in target_categories[12]['img_ids'] or row['id'] in target_categories[6]['img_ids']:\n",
    "        final_images.append(row)\n",
    "\n",
    "final_annotations = target_categories[12]['ann'] + target_categories[6]['ann'] \n",
    "\n",
    "final_annotations = sorted(final_annotations, key=lambda x: x['id'])\n",
    "final_images = sorted(final_images, key=lambda x: x['id'])\n",
    "\n",
    " "
   ]
  },
  {
   "cell_type": "code",
   "execution_count": 178,
   "metadata": {},
   "outputs": [],
   "source": [
    "# mapping annotations to iamges\n",
    "\n",
    "hierarchy = {}\n",
    "\n",
    "i = 1\n",
    "j = 1\n",
    "\n",
    "for image in final_images:\n",
    "    id_image = image['id']\n",
    "    hierarchy[id_image] = [] \n",
    "\n",
    "    for annotation in final_annotations:\n",
    "        id_ann = annotation['image_id'] \n",
    "        \n",
    "        if id_image == id_ann:\n",
    "\n",
    "            annotation['image_id'] = i\n",
    "            annotation['id'] = j\n",
    "            if annotation['category_id'] == 12:\n",
    "                annotation['category_id'] = 1\n",
    "\n",
    "            if annotation['category_id'] == 6:\n",
    "                annotation['category_id'] = 2\n",
    "\n",
    "            hierarchy[id_image].append(annotation)\n",
    "            \n",
    "            j += 1 \n",
    "\n",
    "    hierarchy[i] = hierarchy[id_image]\n",
    "    del hierarchy[id_image]\n",
    "\n",
    "    i += 1"
   ]
  },
  {
   "cell_type": "code",
   "execution_count": 179,
   "metadata": {},
   "outputs": [
    {
     "data": {
      "text/plain": [
       "dict_keys([1, 2, 3, 4, 5, 6, 7, 8, 9, 10, 11, 12, 13, 14, 15, 16, 17, 18, 19, 20, 21, 22, 23, 24, 25, 26, 27, 28, 29, 30, 31, 32, 33, 34, 35, 36, 37, 38, 39, 40, 41, 42, 43, 44, 45, 46, 47, 48, 49, 50, 51, 52, 53, 54, 55, 56, 57, 58, 59, 60, 61, 62, 63, 64, 65, 66, 67, 68, 69, 70, 71, 72, 73, 74, 75, 76, 77, 78, 79, 80, 81, 82, 83, 84, 85, 86, 87, 88, 89, 90, 91, 92, 93, 94, 95, 96, 97, 98, 99, 100])"
      ]
     },
     "execution_count": 179,
     "metadata": {},
     "output_type": "execute_result"
    }
   ],
   "source": [
    "hierarchy.keys()"
   ]
  },
  {
   "cell_type": "code",
   "execution_count": 180,
   "metadata": {},
   "outputs": [],
   "source": [
    "for idx, image in enumerate(final_images, start=1):\n",
    "    image['file_name'] = f'img{idx}.jpg'\n",
    "    image['id'] = idx"
   ]
  },
  {
   "cell_type": "markdown",
   "metadata": {},
   "source": [
    "## Creating the custom COCO data set"
   ]
  },
  {
   "cell_type": "code",
   "execution_count": 181,
   "metadata": {},
   "outputs": [],
   "source": [
    "final_data = {\n",
    "    'info' : {'year': 2025,\n",
    "            'version': None,\n",
    "            'description': 'Project_Object_Detection',\n",
    "            'contributor': None,\n",
    "            'url': None,\n",
    "            'date_created': '2025-03-16'},\n",
    "    'images' : [],\n",
    "    'annotations': [],\n",
    "    'licenses' : [],\n",
    "    'categories' : [{'supercategory': 'Can', 'id': 1, 'name': 'Drink can'},\n",
    "                    {'supercategory': 'Bottle', 'id': 2, 'name': 'Glass bottle'}],\n",
    "}"
   ]
  },
  {
   "cell_type": "code",
   "execution_count": 182,
   "metadata": {},
   "outputs": [],
   "source": [
    "final_data['images'] = final_images\n",
    "for key, value in hierarchy.items():\n",
    "    for ann in hierarchy[key]:\n",
    "        del ann['segmentation']\n",
    "        del ann['iscrowd']\n",
    "        del ann['area']\n",
    "        final_data['annotations'].append(ann)"
   ]
  },
  {
   "cell_type": "code",
   "execution_count": 183,
   "metadata": {},
   "outputs": [
    {
     "name": "stdout",
     "output_type": "stream",
     "text": [
      "[{'id': 1, 'width': 1537, 'height': 2049, 'file_name': 'img1.jpg', 'license': None, 'flickr_url': 'https://farm66.staticflickr.com/65535/33978196618_e30a59e0a8_o.png', 'coco_url': None, 'date_captured': None, 'flickr_640_url': 'https://farm66.staticflickr.com/65535/33978196618_632623b4fc_z.jpg', 'category_id': 2}, {'id': 2, 'width': 2049, 'height': 1537, 'file_name': 'img2.jpg', 'license': None, 'flickr_url': 'https://farm66.staticflickr.com/65535/47803331492_0e1085ca55_o.png', 'coco_url': None, 'date_captured': None, 'flickr_640_url': 'https://farm66.staticflickr.com/65535/47803331492_b8c0e5aafe_z.jpg', 'category_id': 1}, {'id': 3, 'width': 1537, 'height': 2049, 'file_name': 'img3.jpg', 'license': None, 'flickr_url': 'https://farm66.staticflickr.com/65535/33978199868_88ee160849_o.png', 'coco_url': None, 'date_captured': None, 'flickr_640_url': 'https://farm66.staticflickr.com/65535/33978199868_1bc379170a_z.jpg', 'category_id': 1}, {'id': 4, 'width': 1537, 'height': 2049, 'file_name': 'img4.jpg', 'license': None, 'flickr_url': 'https://farm66.staticflickr.com/65535/40888877173_855795c875_o.png', 'coco_url': None, 'date_captured': None, 'flickr_640_url': 'https://farm66.staticflickr.com/65535/40888877173_734cec88e1_z.jpg', 'category_id': 2}, {'id': 5, 'width': 1537, 'height': 2049, 'file_name': 'img5.jpg', 'license': None, 'flickr_url': 'https://farm66.staticflickr.com/65535/47066066634_c50443ca0c_o.png', 'coco_url': None, 'date_captured': None, 'flickr_640_url': 'https://farm66.staticflickr.com/65535/47066066634_60a4f44241_z.jpg', 'category_id': 1}, {'id': 6, 'width': 2049, 'height': 1537, 'file_name': 'img6.jpg', 'license': None, 'flickr_url': 'https://farm66.staticflickr.com/65535/47803337262_8e069056d4_o.png', 'coco_url': None, 'date_captured': None, 'flickr_640_url': 'https://farm66.staticflickr.com/65535/47803337262_4965d5608b_z.jpg', 'category_id': 2}, {'id': 7, 'width': 1537, 'height': 2049, 'file_name': 'img7.jpg', 'license': None, 'flickr_url': 'https://farm66.staticflickr.com/65535/40888879023_df1db6fbd9_o.png', 'coco_url': None, 'date_captured': None, 'flickr_640_url': 'https://farm66.staticflickr.com/65535/40888879023_9050b8b546_z.jpg', 'category_id': 1}, {'id': 8, 'width': 1537, 'height': 2049, 'file_name': 'img8.jpg', 'license': None, 'flickr_url': 'https://farm66.staticflickr.com/65535/32911398817_e6ef283545_o.png', 'coco_url': None, 'date_captured': None, 'flickr_640_url': 'https://farm66.staticflickr.com/65535/32911398817_4725c65593_z.jpg', 'category_id': 1}, {'id': 9, 'width': 1537, 'height': 2049, 'file_name': 'img9.jpg', 'license': None, 'flickr_url': 'https://farm66.staticflickr.com/65535/47066069044_d036243818_o.png', 'coco_url': None, 'date_captured': None, 'flickr_640_url': 'https://farm66.staticflickr.com/65535/47066069044_fb605dece1_z.jpg', 'category_id': 1}, {'id': 10, 'width': 2049, 'height': 1537, 'file_name': 'img10.jpg', 'license': None, 'flickr_url': 'https://farm66.staticflickr.com/65535/46939254645_8c2662f96c_o.png', 'coco_url': None, 'date_captured': None, 'flickr_640_url': 'https://farm66.staticflickr.com/65535/46939254645_d86872df65_z.jpg', 'category_id': 2}, {'id': 11, 'width': 2049, 'height': 1537, 'file_name': 'img11.jpg', 'license': None, 'flickr_url': 'https://farm66.staticflickr.com/65535/46939254875_9da2bf390c_o.png', 'coco_url': None, 'date_captured': None, 'flickr_640_url': 'https://farm66.staticflickr.com/65535/46939254875_30ebf38f12_z.jpg', 'category_id': 2}, {'id': 12, 'width': 1537, 'height': 2049, 'file_name': 'img12.jpg', 'license': None, 'flickr_url': 'https://farm66.staticflickr.com/65535/33978206458_6f2ede98d9_o.png', 'coco_url': None, 'date_captured': None, 'flickr_640_url': 'https://farm66.staticflickr.com/65535/33978206458_ccaff895b0_z.jpg', 'category_id': 1}, {'id': 13, 'width': 1537, 'height': 2049, 'file_name': 'img13.jpg', 'license': None, 'flickr_url': 'https://farm66.staticflickr.com/65535/46939255385_13b538e7bb_o.png', 'coco_url': None, 'date_captured': None, 'flickr_640_url': 'https://farm66.staticflickr.com/65535/46939255385_3ecbdfafce_z.jpg', 'category_id': 1}, {'id': 14, 'width': 1537, 'height': 2049, 'file_name': 'img14.jpg', 'license': None, 'flickr_url': 'https://farm66.staticflickr.com/65535/33978206868_ace11c6368_o.png', 'coco_url': None, 'date_captured': None, 'flickr_640_url': 'https://farm66.staticflickr.com/65535/33978206868_c5eb6d91a0_z.jpg', 'category_id': 1}, {'id': 15, 'width': 1537, 'height': 2049, 'file_name': 'img15.jpg', 'license': None, 'flickr_url': 'https://farm66.staticflickr.com/65535/47803342522_5c60c6c4e0_o.png', 'coco_url': None, 'date_captured': None, 'flickr_640_url': 'https://farm66.staticflickr.com/65535/47803342522_ee56b5ffc7_z.jpg', 'category_id': 1}, {'id': 16, 'width': 1537, 'height': 2049, 'file_name': 'img16.jpg', 'license': None, 'flickr_url': 'https://farm66.staticflickr.com/65535/46939256375_97b40f0cfe_o.png', 'coco_url': None, 'date_captured': None, 'flickr_640_url': 'https://farm66.staticflickr.com/65535/46939256375_cab702038f_z.jpg', 'category_id': 1}, {'id': 17, 'width': 1537, 'height': 2049, 'file_name': 'img17.jpg', 'license': None, 'flickr_url': 'https://farm66.staticflickr.com/65535/46939256875_a0d7b3cf96_o.png', 'coco_url': None, 'date_captured': None, 'flickr_640_url': 'https://farm66.staticflickr.com/65535/46939256875_1e3f943358_z.jpg', 'category_id': 1}, {'id': 18, 'width': 1537, 'height': 2049, 'file_name': 'img18.jpg', 'license': None, 'flickr_url': 'https://farm66.staticflickr.com/65535/33978209058_cddb7831d8_o.png', 'coco_url': None, 'date_captured': None, 'flickr_640_url': 'https://farm66.staticflickr.com/65535/33978209058_6aaa69d0e4_z.jpg', 'category_id': 2}, {'id': 19, 'width': 1537, 'height': 2049, 'file_name': 'img19.jpg', 'license': None, 'flickr_url': 'https://farm66.staticflickr.com/65535/47855510951_3642b54f28_o.png', 'coco_url': None, 'date_captured': None, 'flickr_640_url': 'https://farm66.staticflickr.com/65535/47855510951_2a1053520e_z.jpg', 'category_id': 2}, {'id': 20, 'width': 1537, 'height': 2049, 'file_name': 'img20.jpg', 'license': None, 'flickr_url': 'https://farm66.staticflickr.com/65535/47066072084_a009ce5de2_o.png', 'coco_url': None, 'date_captured': None, 'flickr_640_url': 'https://farm66.staticflickr.com/65535/47066072084_c282c2a55d_z.jpg', 'category_id': 2}, {'id': 21, 'width': 1537, 'height': 2049, 'file_name': 'img21.jpg', 'license': None, 'flickr_url': 'https://farm66.staticflickr.com/65535/40888889263_442454f466_o.png', 'coco_url': None, 'date_captured': None, 'flickr_640_url': 'https://farm66.staticflickr.com/65535/40888889263_c1d612cc87_z.jpg', 'category_id': 1}, {'id': 22, 'width': 1537, 'height': 2049, 'file_name': 'img22.jpg', 'license': None, 'flickr_url': 'https://farm66.staticflickr.com/65535/32911404057_b139c11643_o.png', 'coco_url': None, 'date_captured': None, 'flickr_640_url': 'https://farm66.staticflickr.com/65535/32911404057_297c502eef_z.jpg', 'category_id': 1}, {'id': 23, 'width': 2448, 'height': 3264, 'file_name': 'img23.jpg', 'license': None, 'flickr_url': 'https://farm66.staticflickr.com/65535/46939263035_3c1932bfe9_o.png', 'coco_url': None, 'date_captured': None, 'flickr_640_url': 'https://farm66.staticflickr.com/65535/46939263035_eec983ccb5_z.jpg', 'category_id': 1}, {'id': 24, 'width': 2448, 'height': 3264, 'file_name': 'img24.jpg', 'license': None, 'flickr_url': 'https://farm66.staticflickr.com/65535/33978213438_74b185f6e1_o.png', 'coco_url': None, 'date_captured': None, 'flickr_640_url': 'https://farm66.staticflickr.com/65535/33978213438_20eb524286_z.jpg', 'category_id': 1}, {'id': 25, 'width': 2448, 'height': 3264, 'file_name': 'img25.jpg', 'license': None, 'flickr_url': 'https://farm66.staticflickr.com/65535/46939264945_05393214bd_o.png', 'coco_url': None, 'date_captured': None, 'flickr_640_url': 'https://farm66.staticflickr.com/65535/46939264945_f7059993cd_z.jpg', 'category_id': 1}, {'id': 26, 'width': 2448, 'height': 3264, 'file_name': 'img26.jpg', 'license': None, 'flickr_url': 'https://farm66.staticflickr.com/65535/40888905013_8b20479481_o.png', 'coco_url': None, 'date_captured': None, 'flickr_640_url': 'https://farm66.staticflickr.com/65535/40888905013_469a0afb11_z.jpg', 'category_id': 1}, {'id': 27, 'width': 2448, 'height': 3264, 'file_name': 'img27.jpg', 'license': None, 'flickr_url': 'https://farm66.staticflickr.com/65535/40888909583_9f9cc88433_o.png', 'coco_url': None, 'date_captured': None, 'flickr_640_url': 'https://farm66.staticflickr.com/65535/40888909583_82a44ac1fc_z.jpg', 'category_id': 1}, {'id': 28, 'width': 2448, 'height': 3264, 'file_name': 'img28.jpg', 'license': None, 'flickr_url': 'https://farm66.staticflickr.com/65535/47066092764_614d978865_o.png', 'coco_url': None, 'date_captured': None, 'flickr_640_url': 'https://farm66.staticflickr.com/65535/47066092764_be1f5d14de_z.jpg', 'category_id': 1}, {'id': 29, 'width': 2448, 'height': 3264, 'file_name': 'img29.jpg', 'license': None, 'flickr_url': 'https://farm66.staticflickr.com/65535/47066094324_6b4fe2129b_o.png', 'coco_url': None, 'date_captured': None, 'flickr_640_url': 'https://farm66.staticflickr.com/65535/47066094324_a8d34afa4a_z.jpg', 'category_id': 1}, {'id': 30, 'width': 2448, 'height': 3264, 'file_name': 'img30.jpg', 'license': None, 'flickr_url': 'https://farm66.staticflickr.com/65535/33978232418_38c8bd3546_o.png', 'coco_url': None, 'date_captured': None, 'flickr_640_url': 'https://farm66.staticflickr.com/65535/33978232418_acc781ccb9_z.jpg', 'category_id': 1}, {'id': 31, 'width': 3264, 'height': 2448, 'file_name': 'img31.jpg', 'license': None, 'flickr_url': 'https://farm66.staticflickr.com/65535/47855540001_6b8eae64ab_o.png', 'coco_url': None, 'date_captured': None, 'flickr_640_url': 'https://farm66.staticflickr.com/65535/47855540001_64a57612f2_z.jpg', 'category_id': 1}, {'id': 32, 'width': 1241, 'height': 751, 'file_name': 'img32.jpg', 'license': None, 'flickr_url': 'https://farm66.staticflickr.com/65535/33978235498_aa4fe1aa2f_o.png', 'coco_url': None, 'date_captured': None, 'flickr_640_url': 'https://farm66.staticflickr.com/65535/33978235498_d9ac1f1469_z.jpg', 'category_id': 1}, {'id': 33, 'width': 2448, 'height': 3264, 'file_name': 'img33.jpg', 'license': None, 'flickr_url': 'https://farm66.staticflickr.com/65535/40888924973_a9eca71e01_o.png', 'coco_url': None, 'date_captured': None, 'flickr_640_url': 'https://farm66.staticflickr.com/65535/40888924973_74cb166543_z.jpg', 'category_id': 1}, {'id': 34, 'width': 1824, 'height': 4000, 'file_name': 'img34.jpg', 'license': 'CC', 'flickr_url': 'https://farm66.staticflickr.com/65535/48694281572_345d41b03a_o.png', 'flickr_640_url': 'https://farm66.staticflickr.com/65535/48694281572_c0765a26e1_z.jpg', 'coco_url': None, 'date_captured': None, 'category_id': 2}, {'id': 35, 'width': 4000, 'height': 1824, 'file_name': 'img35.jpg', 'license': 'CC', 'flickr_url': 'https://farm66.staticflickr.com/65535/48693736598_afa72a67ef_o.png', 'flickr_640_url': 'https://farm66.staticflickr.com/65535/48693736598_65704eb2f7_z.jpg', 'coco_url': None, 'date_captured': None, 'category_id': 2}, {'id': 36, 'width': 4000, 'height': 1824, 'file_name': 'img36.jpg', 'license': 'CC', 'flickr_url': 'https://farm66.staticflickr.com/65535/48693735933_3218e594b4_o.png', 'flickr_640_url': 'https://farm66.staticflickr.com/65535/48693735933_59db887f20_z.jpg', 'coco_url': None, 'date_captured': None, 'category_id': 2}, {'id': 37, 'width': 2988, 'height': 5312, 'file_name': 'img37.jpg', 'license': 'ODBL (c) OpenLitterMap & Contributors', 'flickr_url': 'https://olm-s3.s3.eu-west-1.amazonaws.com/2019/04/29/X5iqnF75houl1jkowxbPPLYgtVq2pEiMHoJNqVx8.jpeg', 'flickr_640_url': None, 'coco_url': None, 'date_captured': None, 'category_id': 2}, {'id': 38, 'width': 4160, 'height': 3120, 'file_name': 'img38.jpg', 'license': 'ODBL (c) OpenLitterMap & Contributors', 'flickr_url': 'https://olm-s3.s3.eu-west-1.amazonaws.com/2018/09/07/5SeDJrh3kZ0Me00wyJEIDEY5L49LZip3OuE99rfI.jpeg', 'flickr_640_url': None, 'coco_url': None, 'date_captured': None, 'category_id': 2}, {'id': 39, 'width': 3024, 'height': 4032, 'file_name': 'img39.jpg', 'license': 'ODBL (c) OpenLitterMap & Contributors', 'flickr_url': 'https://olm-s3.s3.eu-west-1.amazonaws.com/2018/06/30/e09VRWhlesBfA75E5wFCg2pLBaQTfPveoKzAKkO3.jpeg', 'flickr_640_url': None, 'coco_url': None, 'date_captured': None, 'category_id': 1}, {'id': 40, 'width': 3120, 'height': 4160, 'file_name': 'img40.jpg', 'license': 'ODBL (c) OpenLitterMap & Contributors', 'flickr_url': 'https://olm-s3.s3.eu-west-1.amazonaws.com/2018/12/02/lfkSqW2Rty5f3ClVo0gpzW3ktQdUeGhftSPjcA6a.jpeg', 'flickr_640_url': None, 'coco_url': None, 'date_captured': None, 'category_id': 1}, {'id': 41, 'width': 3024, 'height': 4032, 'file_name': 'img41.jpg', 'license': 'ODBL (c) OpenLitterMap & Contributors', 'flickr_url': 'https://olm-s3.s3.eu-west-1.amazonaws.com/700/HVABDNzfuiYXJWKiZuNaAHbOVruTlSIZkgE4NypW.jpeg', 'flickr_640_url': None, 'coco_url': None, 'date_captured': None, 'category_id': 1}, {'id': 42, 'width': 3024, 'height': 4032, 'file_name': 'img42.jpg', 'license': 'ODBL (c) OpenLitterMap & Contributors', 'flickr_url': 'https://olm-s3.s3.eu-west-1.amazonaws.com/700/EGesxEIpnYlkkKoJGqPxMiHycvlYhaWVZ5j5alOj.jpeg', 'flickr_640_url': None, 'coco_url': None, 'date_captured': None, 'category_id': 2}, {'id': 43, 'width': 3024, 'height': 4032, 'file_name': 'img43.jpg', 'license': 'ODBL (c) OpenLitterMap & Contributors', 'flickr_url': 'https://olm-s3.s3.eu-west-1.amazonaws.com/700/GTlX6yKUDeVu5q9vKln6hi9NsP5hbeA3tLrWdIW5.jpeg', 'flickr_640_url': None, 'coco_url': None, 'date_captured': None, 'category_id': 2}, {'id': 44, 'width': 3024, 'height': 4032, 'file_name': 'img44.jpg', 'license': 'ODBL (c) OpenLitterMap & Contributors', 'flickr_url': 'https://olm-s3.s3.eu-west-1.amazonaws.com/700/k45jnW0YOJHY4sLyGsR7uXcSM2DDeYdY8iKkYNIb.jpeg', 'flickr_640_url': None, 'coco_url': None, 'date_captured': None, 'category_id': 1}, {'id': 45, 'width': 3024, 'height': 4032, 'file_name': 'img45.jpg', 'license': 'ODBL (c) OpenLitterMap & Contributors', 'flickr_url': 'https://olm-s3.s3.eu-west-1.amazonaws.com/700/GlZPJi0OK5hFWLsKGmsCU9T9eRp6FvvBl960Zgxy.jpeg', 'flickr_640_url': None, 'coco_url': None, 'date_captured': None, 'category_id': 1}, {'id': 46, 'width': 3024, 'height': 4032, 'file_name': 'img46.jpg', 'license': 'ODBL (c) OpenLitterMap & Contributors', 'flickr_url': 'https://olm-s3.s3.eu-west-1.amazonaws.com/764/2vvwiCyQbPf9mw08Zso64cprLCQQDvv01k7LHYt0.jpeg', 'flickr_640_url': None, 'coco_url': None, 'date_captured': None, 'category_id': 1}, {'id': 47, 'width': 3024, 'height': 4032, 'file_name': 'img47.jpg', 'license': 'ODBL (c) OpenLitterMap & Contributors', 'flickr_url': 'https://olm-s3.s3.eu-west-1.amazonaws.com/764/nk6kkJjUVtD58kaq1G7JKHZtHhsFQ40QZribBtuX.jpeg', 'flickr_640_url': None, 'coco_url': None, 'date_captured': None, 'category_id': 2}, {'id': 48, 'width': 3024, 'height': 4032, 'file_name': 'img48.jpg', 'license': 'ODBL (c) OpenLitterMap & Contributors', 'flickr_url': 'https://olm-s3.s3.eu-west-1.amazonaws.com/764/L5l1k2O1wNpqPzmQ4wVzAimI10gWatOs8AbBlbtf.jpeg', 'flickr_640_url': None, 'coco_url': None, 'date_captured': None, 'category_id': 1}, {'id': 49, 'width': 3024, 'height': 4032, 'file_name': 'img49.jpg', 'license': 'ODBL (c) OpenLitterMap & Contributors', 'flickr_url': 'https://olm-s3.s3.eu-west-1.amazonaws.com/764/1n6cV3FHEyCsGtLO2jrHReiDW6gfJYFKS3LPDvO5.jpeg', 'flickr_640_url': None, 'coco_url': None, 'date_captured': None, 'category_id': 2}, {'id': 50, 'width': 3024, 'height': 4032, 'file_name': 'img50.jpg', 'license': 'ODBL (c) OpenLitterMap & Contributors', 'flickr_url': 'https://olm-s3.s3.eu-west-1.amazonaws.com/764/PkO8rS9OIzDwzTzmqpJWQQBGK726Ge2KgcHy2x3X.jpeg', 'flickr_640_url': None, 'coco_url': None, 'date_captured': None, 'category_id': 1}, {'id': 51, 'width': 2048, 'height': 1536, 'file_name': 'img51.jpg', 'license': 'ODBL (c) OpenLitterMap & Contributors', 'flickr_url': 'https://olm-s3.s3.eu-west-1.amazonaws.com/2019/02/05/4LZxR38m14BaN9dnvh6lvayv4XJDRoeqq7GWKxGo.jpeg', 'flickr_640_url': None, 'coco_url': None, 'date_captured': None, 'category_id': 1}, {'id': 52, 'width': 3024, 'height': 4032, 'file_name': 'img52.jpg', 'license': 'ODBL (c) OpenLitterMap & Contributors', 'flickr_url': 'https://olm-s3.s3.eu-west-1.amazonaws.com/2018/10/30/nbuKLysZAnbRsXrehCklCbbryXVsb2TFhfoSzV2e.jpeg', 'flickr_640_url': None, 'coco_url': None, 'date_captured': None, 'category_id': 2}, {'id': 53, 'width': 3264, 'height': 2448, 'file_name': 'img53.jpg', 'license': 'ODBL (c) OpenLitterMap & Contributors', 'flickr_url': 'https://olm-s3.s3.eu-west-1.amazonaws.com/2018/09/08/5cFkc7QtoCLrBvfMwwsY5VHbjZBJVic9zk2qlj7W.jpeg', 'flickr_640_url': None, 'coco_url': None, 'date_captured': None, 'category_id': 2}, {'id': 54, 'width': 2448, 'height': 3264, 'file_name': 'img54.jpg', 'license': None, 'flickr_url': 'https://farm66.staticflickr.com/65535/47855674961_f42f31f1f6_o.png', 'coco_url': None, 'date_captured': None, 'flickr_640_url': 'https://farm66.staticflickr.com/65535/47855674961_2222cd4932_z.jpg', 'category_id': 2}, {'id': 55, 'width': 2448, 'height': 3264, 'file_name': 'img55.jpg', 'license': None, 'flickr_url': 'https://farm66.staticflickr.com/65535/32911562237_6714aee967_o.png', 'coco_url': None, 'date_captured': None, 'flickr_640_url': 'https://farm66.staticflickr.com/65535/32911562237_fe1d0c0c55_z.jpg', 'category_id': 2}, {'id': 56, 'width': 2448, 'height': 3264, 'file_name': 'img56.jpg', 'license': None, 'flickr_url': 'https://farm66.staticflickr.com/65535/40889050463_4528cc2e2c_o.png', 'coco_url': None, 'date_captured': None, 'flickr_640_url': 'https://farm66.staticflickr.com/65535/40889050463_b7c99d3888_z.jpg', 'category_id': 2}, {'id': 57, 'width': 2448, 'height': 3264, 'file_name': 'img57.jpg', 'license': None, 'flickr_url': 'https://farm66.staticflickr.com/65535/47855692151_8013afbd28_o.png', 'coco_url': None, 'date_captured': None, 'flickr_640_url': 'https://farm66.staticflickr.com/65535/47855692151_e05faaa002_z.jpg', 'category_id': 2}, {'id': 58, 'width': 2448, 'height': 3264, 'file_name': 'img58.jpg', 'license': None, 'flickr_url': 'https://farm66.staticflickr.com/65535/40889122913_83a60dbeb9_o.png', 'coco_url': None, 'date_captured': None, 'flickr_640_url': 'https://farm66.staticflickr.com/65535/40889122913_4632453b9c_z.jpg', 'category_id': 2}, {'id': 59, 'width': 2448, 'height': 3264, 'file_name': 'img59.jpg', 'license': None, 'flickr_url': 'https://farm66.staticflickr.com/65535/47855759571_3bedc5464d_o.png', 'coco_url': None, 'date_captured': None, 'flickr_640_url': 'https://farm66.staticflickr.com/65535/47855759571_240d67387b_z.jpg', 'category_id': 2}, {'id': 60, 'width': 3264, 'height': 2448, 'file_name': 'img60.jpg', 'license': None, 'flickr_url': 'https://farm66.staticflickr.com/65535/47855809301_f048ba2949_o.png', 'coco_url': None, 'date_captured': None, 'flickr_640_url': 'https://farm66.staticflickr.com/65535/47855809301_4681535632_z.jpg', 'category_id': 2}, {'id': 61, 'width': 3264, 'height': 2448, 'file_name': 'img61.jpg', 'license': None, 'flickr_url': 'https://farm66.staticflickr.com/65535/32912036217_d5657a9d70_o.png', 'coco_url': None, 'date_captured': None, 'flickr_640_url': 'https://farm66.staticflickr.com/65535/32912036217_c082f61a9c_z.jpg', 'category_id': 1}, {'id': 62, 'width': 2448, 'height': 3264, 'file_name': 'img62.jpg', 'license': None, 'flickr_url': 'https://farm66.staticflickr.com/65535/32912037837_3f846d74c0_o.png', 'coco_url': None, 'date_captured': None, 'flickr_640_url': 'https://farm66.staticflickr.com/65535/32912037837_2f83914db7_z.jpg', 'category_id': 1}, {'id': 63, 'width': 2448, 'height': 3264, 'file_name': 'img63.jpg', 'license': None, 'flickr_url': 'https://farm66.staticflickr.com/65535/32912038327_42b66c91e7_o.png', 'coco_url': None, 'date_captured': None, 'flickr_640_url': 'https://farm66.staticflickr.com/65535/32912038327_a4e27c6b98_z.jpg', 'category_id': 1}, {'id': 64, 'width': 2448, 'height': 3264, 'file_name': 'img64.jpg', 'license': None, 'flickr_url': 'https://farm66.staticflickr.com/65535/33978875618_da0fbde399_o.png', 'coco_url': None, 'date_captured': None, 'flickr_640_url': 'https://farm66.staticflickr.com/65535/33978875618_16571b9eef_z.jpg', 'category_id': 1}, {'id': 65, 'width': 2448, 'height': 3264, 'file_name': 'img65.jpg', 'license': None, 'flickr_url': 'https://farm66.staticflickr.com/65535/47856178921_9879440339_o.png', 'coco_url': None, 'date_captured': None, 'flickr_640_url': 'https://farm66.staticflickr.com/65535/47856178921_ab049b0477_z.jpg', 'category_id': 1}, {'id': 66, 'width': 2448, 'height': 3264, 'file_name': 'img66.jpg', 'license': None, 'flickr_url': 'https://farm66.staticflickr.com/65535/33978879488_0055e88548_o.png', 'coco_url': None, 'date_captured': None, 'flickr_640_url': 'https://farm66.staticflickr.com/65535/33978879488_db6355dd21_z.jpg', 'category_id': 1}, {'id': 67, 'width': 2448, 'height': 3264, 'file_name': 'img67.jpg', 'license': None, 'flickr_url': 'https://farm66.staticflickr.com/65535/33978880738_f7752223c3_o.png', 'coco_url': None, 'date_captured': None, 'flickr_640_url': 'https://farm66.staticflickr.com/65535/33978880738_30e116317c_z.jpg', 'category_id': 1}, {'id': 68, 'width': 2448, 'height': 3264, 'file_name': 'img68.jpg', 'license': None, 'flickr_url': 'https://farm66.staticflickr.com/65535/46939913575_f52efcf897_o.png', 'coco_url': None, 'date_captured': None, 'flickr_640_url': 'https://farm66.staticflickr.com/65535/46939913575_581c793c6f_z.jpg', 'category_id': 2}, {'id': 69, 'width': 2448, 'height': 3264, 'file_name': 'img69.jpg', 'license': None, 'flickr_url': 'https://farm66.staticflickr.com/65535/32912056417_027702d667_o.png', 'coco_url': None, 'date_captured': None, 'flickr_640_url': 'https://farm66.staticflickr.com/65535/32912056417_411eb22cf9_z.jpg', 'category_id': 1}, {'id': 70, 'width': 3264, 'height': 2448, 'file_name': 'img70.jpg', 'license': None, 'flickr_url': 'https://farm66.staticflickr.com/65535/47856193371_68edd17c45_o.png', 'coco_url': None, 'date_captured': None, 'flickr_640_url': 'https://farm66.staticflickr.com/65535/47856193371_8f69486987_z.jpg', 'category_id': 1}, {'id': 71, 'width': 2448, 'height': 3264, 'file_name': 'img71.jpg', 'license': None, 'flickr_url': 'https://farm66.staticflickr.com/65535/47856201821_e0c10c6b9d_o.png', 'coco_url': None, 'date_captured': None, 'flickr_640_url': 'https://farm66.staticflickr.com/65535/47856201821_9aeb3bc4cd_z.jpg', 'category_id': 1}, {'id': 72, 'width': 2624, 'height': 1968, 'file_name': 'img72.jpg', 'license': None, 'flickr_url': 'https://farm66.staticflickr.com/65535/47856222401_0bd6036b2e_o.png', 'coco_url': None, 'date_captured': None, 'flickr_640_url': 'https://farm66.staticflickr.com/65535/47856222401_418c5c7a71_z.jpg', 'category_id': 1}, {'id': 73, 'width': 3680, 'height': 2760, 'file_name': 'img73.jpg', 'license': None, 'flickr_url': 'https://farm66.staticflickr.com/65535/46939963045_7211eea09b_o.png', 'coco_url': None, 'date_captured': None, 'flickr_640_url': 'https://farm66.staticflickr.com/65535/46939963045_00b9611ef6_z.jpg', 'category_id': 1}, {'id': 74, 'width': 2624, 'height': 1968, 'file_name': 'img74.jpg', 'license': None, 'flickr_url': 'https://farm66.staticflickr.com/65535/47066774434_b932933f37_o.png', 'coco_url': None, 'date_captured': None, 'flickr_640_url': 'https://farm66.staticflickr.com/65535/47066774434_756a21669b_z.jpg', 'category_id': 2}, {'id': 75, 'width': 3680, 'height': 2760, 'file_name': 'img75.jpg', 'license': None, 'flickr_url': 'https://farm66.staticflickr.com/65535/32912101117_743a26fa9f_o.png', 'coco_url': None, 'date_captured': None, 'flickr_640_url': 'https://farm66.staticflickr.com/65535/32912101117_49dffcc8e3_z.jpg', 'category_id': 2}, {'id': 76, 'width': 2275, 'height': 3235, 'file_name': 'img76.jpg', 'license': None, 'flickr_url': 'https://farm66.staticflickr.com/65535/47856232351_f798dc2cce_o.png', 'coco_url': None, 'date_captured': None, 'flickr_640_url': 'https://farm66.staticflickr.com/65535/47856232351_547e40862a_z.jpg', 'category_id': 2}, {'id': 77, 'width': 2448, 'height': 3264, 'file_name': 'img77.jpg', 'license': None, 'flickr_url': 'https://farm66.staticflickr.com/65535/40889614263_2c83c7bf30_o.png', 'coco_url': None, 'date_captured': None, 'flickr_640_url': 'https://farm66.staticflickr.com/65535/40889614263_7909aec06a_z.jpg', 'category_id': 1}, {'id': 78, 'width': 3264, 'height': 2448, 'file_name': 'img78.jpg', 'license': None, 'flickr_url': 'https://farm66.staticflickr.com/65535/32912110127_16808ba9e7_o.png', 'coco_url': None, 'date_captured': None, 'flickr_640_url': 'https://farm66.staticflickr.com/65535/32912110127_1f8c06e338_z.jpg', 'category_id': 1}, {'id': 79, 'width': 3680, 'height': 2760, 'file_name': 'img79.jpg', 'license': None, 'flickr_url': 'https://farm66.staticflickr.com/65535/32912121107_06ed3f85f8_o.png', 'coco_url': None, 'date_captured': None, 'flickr_640_url': 'https://farm66.staticflickr.com/65535/32912121107_816b9c475d_z.jpg', 'category_id': 1}, {'id': 80, 'width': 2624, 'height': 1968, 'file_name': 'img80.jpg', 'license': None, 'flickr_url': 'https://farm66.staticflickr.com/65535/40889628343_8b3f4e784b_o.png', 'coco_url': None, 'date_captured': None, 'flickr_640_url': 'https://farm66.staticflickr.com/65535/40889628343_293432e5a0_z.jpg', 'category_id': 1}, {'id': 81, 'width': 2815, 'height': 2195, 'file_name': 'img81.jpg', 'license': None, 'flickr_url': 'https://farm66.staticflickr.com/65535/40889638173_0ca45fd364_o.png', 'coco_url': None, 'date_captured': None, 'flickr_640_url': 'https://farm66.staticflickr.com/65535/40889638173_216d1f1c31_z.jpg', 'category_id': 2}, {'id': 82, 'width': 2448, 'height': 3264, 'file_name': 'img82.jpg', 'license': None, 'flickr_url': 'https://farm66.staticflickr.com/65535/47066843964_43fa166949_o.png', 'coco_url': None, 'date_captured': None, 'flickr_640_url': 'https://farm66.staticflickr.com/65535/47066843964_972b117f1b_z.jpg', 'category_id': 2}, {'id': 83, 'width': 3264, 'height': 2448, 'file_name': 'img83.jpg', 'license': None, 'flickr_url': 'https://farm66.staticflickr.com/65535/47856319211_dc3a523be8_o.png', 'coco_url': None, 'date_captured': None, 'flickr_640_url': 'https://farm66.staticflickr.com/65535/47856319211_7a2b1c921f_z.jpg', 'category_id': 2}, {'id': 84, 'width': 2448, 'height': 3264, 'file_name': 'img84.jpg', 'license': 'CC', 'flickr_url': 'https://farm66.staticflickr.com/65535/48323686252_54f784fc35_o.png', 'flickr_640_url': 'https://farm66.staticflickr.com/65535/48323686252_ab946b6d99_z.jpg', 'coco_url': None, 'date_captured': None, 'category_id': 2}, {'id': 85, 'width': 3264, 'height': 2448, 'file_name': 'img85.jpg', 'license': 'CC', 'flickr_url': 'https://farm66.staticflickr.com/65535/48603732432_bfc37ff751_o.png', 'flickr_640_url': 'https://farm66.staticflickr.com/65535/48603732432_76aebb6a07_z.jpg', 'coco_url': None, 'date_captured': None, 'category_id': 2}, {'id': 86, 'width': 3264, 'height': 2448, 'file_name': 'img86.jpg', 'license': 'CC', 'flickr_url': 'https://farm66.staticflickr.com/65535/48603731832_eebda68037_o.png', 'flickr_640_url': 'https://farm66.staticflickr.com/65535/48603731832_31827ca000_z.jpg', 'coco_url': None, 'date_captured': None, 'category_id': 2}, {'id': 87, 'width': 2448, 'height': 3264, 'file_name': 'img87.jpg', 'license': 'CC', 'flickr_url': 'https://farm66.staticflickr.com/65535/48580511707_b69cdd6fb5_o.png', 'flickr_640_url': 'https://farm66.staticflickr.com/65535/48580511707_acfd893fbf_z.jpg', 'coco_url': None, 'date_captured': None, 'category_id': 2}, {'id': 88, 'width': 2448, 'height': 3264, 'file_name': 'img88.jpg', 'license': 'CC', 'flickr_url': 'https://farm66.staticflickr.com/65535/48580365266_c5e8d85d49_o.png', 'flickr_640_url': 'https://farm66.staticflickr.com/65535/48580365266_6beda70c7d_z.jpg', 'coco_url': None, 'date_captured': None, 'category_id': 2}, {'id': 89, 'width': 2448, 'height': 3264, 'file_name': 'img89.jpg', 'license': 'CC', 'flickr_url': 'https://farm66.staticflickr.com/65535/48580510502_c2dfd3703f_o.png', 'flickr_640_url': 'https://farm66.staticflickr.com/65535/48580510502_e5910faed3_z.jpg', 'coco_url': None, 'date_captured': None, 'category_id': 2}, {'id': 90, 'width': 2448, 'height': 3264, 'file_name': 'img90.jpg', 'license': 'CC', 'flickr_url': 'https://farm66.staticflickr.com/65535/48580510147_6bea407e6f_o.png', 'flickr_640_url': 'https://farm66.staticflickr.com/65535/48580510147_9064624248_z.jpg', 'coco_url': None, 'date_captured': None, 'category_id': 2}, {'id': 91, 'width': 2448, 'height': 3264, 'file_name': 'img91.jpg', 'license': 'CC', 'flickr_url': 'https://farm66.staticflickr.com/65535/48580509912_da2cd98a57_o.png', 'flickr_640_url': 'https://farm66.staticflickr.com/65535/48580509912_9c094f86bd_z.jpg', 'coco_url': None, 'date_captured': None, 'category_id': 2}, {'id': 92, 'width': 2448, 'height': 3264, 'file_name': 'img92.jpg', 'license': 'CC', 'flickr_url': 'https://farm66.staticflickr.com/65535/48580509712_4f59b75c30_o.png', 'flickr_640_url': 'https://farm66.staticflickr.com/65535/48580509712_8f144a3f98_z.jpg', 'coco_url': None, 'date_captured': None, 'category_id': 2}, {'id': 93, 'width': 3264, 'height': 2448, 'file_name': 'img93.jpg', 'license': 'CC', 'flickr_url': 'https://farm66.staticflickr.com/65535/48660791883_3ffe983e03_o.png', 'flickr_640_url': 'https://farm66.staticflickr.com/65535/48660791883_5492dfedfa_z.jpg', 'coco_url': None, 'date_captured': None, 'category_id': 2}, {'id': 94, 'width': 1824, 'height': 4000, 'file_name': 'img94.jpg', 'license': 'CC', 'flickr_url': 'https://farm66.staticflickr.com/65535/48701344242_f7378a84f3_o.png', 'flickr_640_url': 'https://farm66.staticflickr.com/65535/48701344242_13846e1021_z.jpg', 'coco_url': None, 'date_captured': None, 'category_id': 2}, {'id': 95, 'width': 1824, 'height': 4000, 'file_name': 'img95.jpg', 'license': 'CC', 'flickr_url': 'https://farm66.staticflickr.com/65535/48700836023_994dd1492a_o.png', 'flickr_640_url': 'https://farm66.staticflickr.com/65535/48700836023_81bd47759f_z.jpg', 'coco_url': None, 'date_captured': None, 'category_id': 2}, {'id': 96, 'width': 4000, 'height': 1824, 'file_name': 'img96.jpg', 'license': 'CC', 'flickr_url': 'https://farm66.staticflickr.com/65535/48701343067_88f33263b3_o.png', 'flickr_640_url': 'https://farm66.staticflickr.com/65535/48701343067_848159546a_z.jpg', 'coco_url': None, 'date_captured': None, 'category_id': 2}, {'id': 97, 'width': 1824, 'height': 4000, 'file_name': 'img97.jpg', 'license': 'CC', 'flickr_url': 'https://farm66.staticflickr.com/65535/48701320137_bfd555a59b_o.png', 'flickr_640_url': 'https://farm66.staticflickr.com/65535/48701320137_75da5b8388_z.jpg', 'coco_url': None, 'date_captured': None, 'category_id': 2}, {'id': 98, 'width': 4000, 'height': 1824, 'file_name': 'img98.jpg', 'license': 'CC', 'flickr_url': 'https://farm66.staticflickr.com/65535/48701149411_a6f0dbbfe0_o.png', 'flickr_640_url': 'https://farm66.staticflickr.com/65535/48701149411_e9fc86bc3d_z.jpg', 'coco_url': None, 'date_captured': None, 'category_id': 2}, {'id': 99, 'width': 4000, 'height': 1824, 'file_name': 'img99.jpg', 'license': 'CC', 'flickr_url': 'https://farm66.staticflickr.com/65535/48694319577_067fa55e95_o.png', 'flickr_640_url': 'https://farm66.staticflickr.com/65535/48694319577_254fdc30ba_z.jpg', 'coco_url': None, 'date_captured': None, 'category_id': 2}, {'id': 100, 'width': 1824, 'height': 4000, 'file_name': 'img100.jpg', 'license': 'CC', 'flickr_url': 'https://farm66.staticflickr.com/65535/48701147541_75b5ee2c81_o.png', 'flickr_640_url': 'https://farm66.staticflickr.com/65535/48701147541_801c1a9f15_z.jpg', 'coco_url': None, 'date_captured': None, 'category_id': 2}]\n"
     ]
    }
   ],
   "source": [
    "print(final_data['images'])"
   ]
  },
  {
   "cell_type": "code",
   "execution_count": 184,
   "metadata": {},
   "outputs": [
    {
     "name": "stdout",
     "output_type": "stream",
     "text": [
      "[{'id': 1, 'image_id': 1, 'category_id': 2, 'bbox': [517.0, 127.0, 447.0, 1322.0]}, {'id': 2, 'image_id': 2, 'category_id': 1, 'bbox': [589.0, 548.0, 341.0, 405.0]}, {'id': 3, 'image_id': 3, 'category_id': 1, 'bbox': [556.0, 944.0, 490.0, 336.0]}, {'id': 4, 'image_id': 4, 'category_id': 2, 'bbox': [379.0, 1127.0, 425.0, 318.0]}, {'id': 5, 'image_id': 5, 'category_id': 1, 'bbox': [672.0, 1069.0, 219.0, 161.0]}, {'id': 6, 'image_id': 6, 'category_id': 2, 'bbox': [211.0, 1.0, 417.0, 1417.0]}, {'id': 7, 'image_id': 7, 'category_id': 1, 'bbox': [522.0, 1168.0, 240.0, 122.0]}, {'id': 8, 'image_id': 8, 'category_id': 1, 'bbox': [503.0, 808.0, 445.0, 357.0]}, {'id': 9, 'image_id': 9, 'category_id': 1, 'bbox': [399.0, 502.0, 483.0, 741.0]}, {'id': 10, 'image_id': 10, 'category_id': 2, 'bbox': [852.0, 638.0, 687.0, 291.0]}, {'id': 11, 'image_id': 11, 'category_id': 2, 'bbox': [647.0, 1033.0, 820.0, 376.0]}, {'id': 12, 'image_id': 12, 'category_id': 1, 'bbox': [1015.0, 979.0, 190.0, 214.0]}, {'id': 13, 'image_id': 12, 'category_id': 1, 'bbox': [904.0, 1493.0, 168.0, 166.0]}, {'id': 14, 'image_id': 12, 'category_id': 1, 'bbox': [683.0, 1550.0, 221.0, 103.0]}, {'id': 15, 'image_id': 12, 'category_id': 1, 'bbox': [1043.0, 792.0, 144.0, 164.0]}, {'id': 16, 'image_id': 13, 'category_id': 1, 'bbox': [218.0, 1457.0, 273.0, 273.0]}, {'id': 17, 'image_id': 13, 'category_id': 1, 'bbox': [634.0, 860.0, 227.0, 232.0]}, {'id': 18, 'image_id': 14, 'category_id': 1, 'bbox': [668.0, 717.0, 455.0, 655.0]}, {'id': 19, 'image_id': 15, 'category_id': 1, 'bbox': [604.0, 1052.0, 187.0, 320.0]}, {'id': 20, 'image_id': 16, 'category_id': 1, 'bbox': [470.0, 1040.0, 413.0, 321.0]}, {'id': 21, 'image_id': 17, 'category_id': 1, 'bbox': [642.0, 854.0, 833.0, 804.0]}, {'id': 22, 'image_id': 18, 'category_id': 2, 'bbox': [811.0, 1123.0, 199.0, 350.0]}, {'id': 23, 'image_id': 19, 'category_id': 2, 'bbox': [593.0, 934.0, 432.0, 238.0]}, {'id': 24, 'image_id': 20, 'category_id': 2, 'bbox': [713.0, 530.0, 191.0, 373.0]}, {'id': 25, 'image_id': 21, 'category_id': 1, 'bbox': [323.0, 1055.0, 487.0, 352.0]}, {'id': 26, 'image_id': 22, 'category_id': 1, 'bbox': [652.0, 874.0, 425.0, 689.0]}, {'id': 27, 'image_id': 23, 'category_id': 1, 'bbox': [1050.0, 1654.0, 410.0, 353.0]}, {'id': 28, 'image_id': 24, 'category_id': 1, 'bbox': [1038.0, 1111.0, 255.0, 637.0]}, {'id': 29, 'image_id': 25, 'category_id': 1, 'bbox': [940.0, 837.0, 492.0, 711.0]}, {'id': 30, 'image_id': 26, 'category_id': 1, 'bbox': [1090.0, 411.0, 170.0, 148.0]}, {'id': 31, 'image_id': 26, 'category_id': 1, 'bbox': [1905.0, 284.0, 146.0, 151.0]}, {'id': 32, 'image_id': 27, 'category_id': 1, 'bbox': [870.0, 673.0, 620.0, 386.0]}, {'id': 33, 'image_id': 27, 'category_id': 1, 'bbox': [1447.0, 829.0, 603.0, 661.0]}, {'id': 34, 'image_id': 28, 'category_id': 1, 'bbox': [2039.0, 1606.0, 360.0, 536.0]}, {'id': 35, 'image_id': 29, 'category_id': 1, 'bbox': [779.0, 2933.0, 240.0, 116.0]}, {'id': 36, 'image_id': 30, 'category_id': 1, 'bbox': [844.0, 2332.0, 257.0, 296.0]}, {'id': 37, 'image_id': 30, 'category_id': 1, 'bbox': [434.0, 1871.0, 187.0, 281.0]}, {'id': 38, 'image_id': 31, 'category_id': 1, 'bbox': [2278.0, 759.0, 457.0, 213.0]}, {'id': 39, 'image_id': 32, 'category_id': 1, 'bbox': [649.0, 55.0, 93.0, 88.0]}, {'id': 40, 'image_id': 33, 'category_id': 1, 'bbox': [1102.0, 861.0, 611.0, 339.0]}, {'id': 41, 'image_id': 34, 'category_id': 2, 'bbox': [1246.0952, 2174.1904, 197.95240000000013, 310.80960000000005]}, {'id': 42, 'image_id': 35, 'category_id': 2, 'bbox': [2214.0, 1255.0, 429.0, 244.0]}, {'id': 43, 'image_id': 36, 'category_id': 2, 'bbox': [0.0, 1390.0, 142.0, 107.0]}, {'id': 44, 'image_id': 36, 'category_id': 2, 'bbox': [2588.0, 1543.0, 143.0, 279.0]}, {'id': 45, 'image_id': 37, 'category_id': 2, 'bbox': [1204.0, 1899.0, 977.0, 565.0]}, {'id': 46, 'image_id': 38, 'category_id': 2, 'bbox': [395.0, 1032.0, 3758.0, 1042.0]}, {'id': 47, 'image_id': 39, 'category_id': 1, 'bbox': [1175.0, 1930.0, 350.0, 242.0]}, {'id': 48, 'image_id': 40, 'category_id': 1, 'bbox': [1221.0, 2156.0, 806.0, 1030.0]}, {'id': 49, 'image_id': 41, 'category_id': 1, 'bbox': [815.0, 1508.0, 848.0, 675.0]}, {'id': 50, 'image_id': 42, 'category_id': 2, 'bbox': [876.1905, 1597.524, 1109.9998999999998, 809.9998]}, {'id': 51, 'image_id': 43, 'category_id': 2, 'bbox': [852.0, 1713.0, 1206.0, 1123.0]}, {'id': 52, 'image_id': 44, 'category_id': 1, 'bbox': [1596.7557000000002, 1917.7272, 496.00004, 805.9997999999998]}, {'id': 53, 'image_id': 44, 'category_id': 1, 'bbox': [1232.2671, 2069.733, 495.3635999999999, 546.0]}, {'id': 54, 'image_id': 45, 'category_id': 1, 'bbox': [25.0, 1561.0, 2315.0, 1374.0]}, {'id': 55, 'image_id': 46, 'category_id': 1, 'bbox': [1848.0, 2531.0, 486.0, 582.0]}, {'id': 56, 'image_id': 46, 'category_id': 1, 'bbox': [1074.0, 1449.0, 569.0, 708.0]}, {'id': 57, 'image_id': 47, 'category_id': 2, 'bbox': [934.0, 3067.0, 906.0, 587.0]}, {'id': 58, 'image_id': 48, 'category_id': 1, 'bbox': [569.0, 2678.0, 366.0, 196.0]}, {'id': 59, 'image_id': 48, 'category_id': 1, 'bbox': [1146.0, 347.0, 163.0, 170.0]}, {'id': 60, 'image_id': 48, 'category_id': 1, 'bbox': [1249.0, 11.0, 99.0, 171.0]}, {'id': 61, 'image_id': 48, 'category_id': 1, 'bbox': [1349.0, 47.0, 109.0, 98.0]}, {'id': 62, 'image_id': 49, 'category_id': 2, 'bbox': [1435.0, 1924.0, 550.0, 322.0]}, {'id': 63, 'image_id': 50, 'category_id': 1, 'bbox': [790.0, 2243.0, 517.0, 541.0]}, {'id': 64, 'image_id': 51, 'category_id': 1, 'bbox': [980.0, 734.0, 262.0, 333.0]}, {'id': 65, 'image_id': 52, 'category_id': 2, 'bbox': [1129.0, 1254.0, 644.0, 2207.0]}, {'id': 66, 'image_id': 53, 'category_id': 2, 'bbox': [1059.0, 699.0, 344.0, 1194.0]}, {'id': 67, 'image_id': 53, 'category_id': 2, 'bbox': [1632.0, 301.0, 427.0, 1272.0]}, {'id': 68, 'image_id': 54, 'category_id': 2, 'bbox': [815.0, 369.0, 428.0, 214.0]}, {'id': 69, 'image_id': 54, 'category_id': 2, 'bbox': [1189.0, 2344.0, 172.0, 387.0]}, {'id': 70, 'image_id': 55, 'category_id': 2, 'bbox': [1340.0, 166.0, 602.0, 2208.0]}, {'id': 71, 'image_id': 55, 'category_id': 2, 'bbox': [1055.0, 1.0, 403.0, 1615.0]}, {'id': 72, 'image_id': 56, 'category_id': 2, 'bbox': [1135.0, 1366.0, 177.0, 441.0]}, {'id': 73, 'image_id': 57, 'category_id': 2, 'bbox': [669.0, 536.0, 151.0, 475.0]}, {'id': 74, 'image_id': 58, 'category_id': 2, 'bbox': [1402.0, 1097.0, 311.0, 158.0]}, {'id': 75, 'image_id': 59, 'category_id': 2, 'bbox': [1445.0, 1048.0, 457.0, 1110.0]}, {'id': 76, 'image_id': 60, 'category_id': 2, 'bbox': [3022.0, 1673.0, 147.0, 52.0]}, {'id': 77, 'image_id': 61, 'category_id': 1, 'bbox': [1461.0, 956.0, 332.0, 219.0]}, {'id': 78, 'image_id': 62, 'category_id': 1, 'bbox': [836.0, 1228.0, 594.0, 315.0]}, {'id': 79, 'image_id': 63, 'category_id': 1, 'bbox': [825.0, 1405.0, 303.0, 434.0]}, {'id': 80, 'image_id': 63, 'category_id': 1, 'bbox': [1149.0, 1297.0, 261.0, 457.0]}, {'id': 81, 'image_id': 63, 'category_id': 1, 'bbox': [1277.0, 1590.0, 502.0, 341.0]}, {'id': 82, 'image_id': 63, 'category_id': 1, 'bbox': [1509.0, 1449.0, 261.0, 192.0]}, {'id': 83, 'image_id': 64, 'category_id': 1, 'bbox': [704.0, 1622.0, 248.0, 126.0]}, {'id': 84, 'image_id': 65, 'category_id': 1, 'bbox': [949.0, 1536.0, 86.0, 95.0]}, {'id': 85, 'image_id': 65, 'category_id': 1, 'bbox': [942.0, 1624.0, 210.0, 88.0]}, {'id': 86, 'image_id': 65, 'category_id': 1, 'bbox': [1125.0, 1571.0, 210.0, 105.0]}, {'id': 87, 'image_id': 65, 'category_id': 1, 'bbox': [1132.0, 1522.0, 186.0, 87.0]}, {'id': 88, 'image_id': 66, 'category_id': 1, 'bbox': [1232.0, 1628.0, 234.0, 332.0]}, {'id': 89, 'image_id': 67, 'category_id': 1, 'bbox': [907.0, 1125.0, 459.0, 321.0]}, {'id': 90, 'image_id': 68, 'category_id': 2, 'bbox': [1256.0, 234.0, 175.0, 686.0]}, {'id': 91, 'image_id': 68, 'category_id': 2, 'bbox': [944.0, 1874.0, 92.0, 284.0]}, {'id': 92, 'image_id': 68, 'category_id': 2, 'bbox': [876.0, 1796.0, 88.0, 279.0]}, {'id': 93, 'image_id': 69, 'category_id': 1, 'bbox': [1176.0, 1015.0, 154.0, 200.0]}, {'id': 94, 'image_id': 69, 'category_id': 1, 'bbox': [323.0, 3149.0, 217.0, 115.0]}, {'id': 95, 'image_id': 70, 'category_id': 1, 'bbox': [2054.0, 988.0, 470.0, 372.0]}, {'id': 96, 'image_id': 71, 'category_id': 1, 'bbox': [865.0, 1143.0, 353.0, 254.0]}, {'id': 97, 'image_id': 72, 'category_id': 1, 'bbox': [1403.0, 1435.0, 130.0, 138.0]}, {'id': 98, 'image_id': 73, 'category_id': 1, 'bbox': [2302.0, 1090.0, 82.0, 90.0]}, {'id': 99, 'image_id': 74, 'category_id': 2, 'bbox': [473.0, 768.0, 234.0, 231.0]}, {'id': 100, 'image_id': 74, 'category_id': 2, 'bbox': [2506.0, 875.0, 118.0, 288.0]}, {'id': 101, 'image_id': 75, 'category_id': 2, 'bbox': [1728.0, 1668.0, 174.0, 142.0]}, {'id': 102, 'image_id': 76, 'category_id': 2, 'bbox': [886.0, 890.0, 224.0, 651.0]}, {'id': 103, 'image_id': 77, 'category_id': 1, 'bbox': [1892.0, 1040.0, 70.0, 31.0]}, {'id': 104, 'image_id': 77, 'category_id': 1, 'bbox': [1955.0, 649.0, 31.0, 49.0]}, {'id': 105, 'image_id': 77, 'category_id': 1, 'bbox': [2131.0, 180.0, 48.0, 33.0]}, {'id': 106, 'image_id': 77, 'category_id': 1, 'bbox': [2191.0, 1565.0, 48.0, 73.0]}, {'id': 107, 'image_id': 78, 'category_id': 1, 'bbox': [768.0, 1277.0, 307.0, 514.0]}, {'id': 108, 'image_id': 78, 'category_id': 1, 'bbox': [725.0, 847.0, 308.0, 524.0]}, {'id': 109, 'image_id': 78, 'category_id': 1, 'bbox': [671.0, 703.0, 271.0, 668.0]}, {'id': 110, 'image_id': 78, 'category_id': 1, 'bbox': [1041.0, 639.0, 251.0, 371.0]}, {'id': 111, 'image_id': 78, 'category_id': 1, 'bbox': [1594.0, 677.0, 208.0, 362.0]}, {'id': 112, 'image_id': 78, 'category_id': 1, 'bbox': [1880.0, 634.0, 216.0, 345.0]}, {'id': 113, 'image_id': 78, 'category_id': 1, 'bbox': [2032.0, 559.0, 174.0, 325.0]}, {'id': 114, 'image_id': 78, 'category_id': 1, 'bbox': [2229.0, 718.0, 246.0, 354.0]}, {'id': 115, 'image_id': 78, 'category_id': 1, 'bbox': [2422.0, 819.0, 129.0, 201.0]}, {'id': 116, 'image_id': 78, 'category_id': 1, 'bbox': [2198.0, 612.0, 228.0, 320.0]}, {'id': 117, 'image_id': 78, 'category_id': 1, 'bbox': [412.0, 1065.0, 145.0, 269.0]}, {'id': 118, 'image_id': 79, 'category_id': 1, 'bbox': [1912.0, 1280.0, 27.0, 21.0]}, {'id': 119, 'image_id': 80, 'category_id': 1, 'bbox': [1339.0, 987.0, 77.0, 82.0]}, {'id': 120, 'image_id': 80, 'category_id': 1, 'bbox': [2198.0, 992.0, 55.0, 57.0]}, {'id': 121, 'image_id': 81, 'category_id': 2, 'bbox': [1665.0, 1362.0, 489.0, 444.0]}, {'id': 122, 'image_id': 82, 'category_id': 2, 'bbox': [1358.0, 1415.0, 244.0, 159.0]}, {'id': 123, 'image_id': 82, 'category_id': 2, 'bbox': [1178.0, 1425.0, 219.0, 173.0]}, {'id': 124, 'image_id': 83, 'category_id': 2, 'bbox': [1590.0, 513.0, 167.0, 133.0]}, {'id': 125, 'image_id': 84, 'category_id': 2, 'bbox': [1509.0, 1011.0, 258.0, 327.0]}, {'id': 126, 'image_id': 85, 'category_id': 2, 'bbox': [1650.0, 690.0, 201.0, 156.0]}, {'id': 127, 'image_id': 85, 'category_id': 2, 'bbox': [1986.0, 1011.0, 225.0, 285.0]}, {'id': 128, 'image_id': 86, 'category_id': 2, 'bbox': [535.0, 804.0, 108.99999999999989, 99.0]}, {'id': 129, 'image_id': 86, 'category_id': 2, 'bbox': [375.99999999999994, 681.0, 108.00000000000006, 94.99999999999989]}, {'id': 130, 'image_id': 86, 'category_id': 2, 'bbox': [397.0, 592.9999999999999, 94.99999999999994, 134.0]}, {'id': 131, 'image_id': 87, 'category_id': 2, 'bbox': [190.0, 1297.0, 212.99999999999994, 202.0]}, {'id': 132, 'image_id': 87, 'category_id': 2, 'bbox': [1144.9999999999998, 349.0, 55.0, 82.99999999999994]}, {'id': 133, 'image_id': 87, 'category_id': 2, 'bbox': [1515.9999999999998, 344.99999999999994, 103.0, 93.0]}, {'id': 134, 'image_id': 87, 'category_id': 2, 'bbox': [1343.9999999999998, 498.99999999999994, 173.0, 113.99999999999994]}, {'id': 135, 'image_id': 87, 'category_id': 2, 'bbox': [1331.0, 559.9999999999999, 104.0, 155.0]}, {'id': 136, 'image_id': 87, 'category_id': 2, 'bbox': [896.0, 1983.9999999999998, 669.0, 341.9999999999998]}, {'id': 137, 'image_id': 88, 'category_id': 2, 'bbox': [646.0, 444.9999999999999, 603.0, 465.9999999999998]}, {'id': 138, 'image_id': 88, 'category_id': 2, 'bbox': [1270.0, 601.9999999999999, 668.9999999999993, 264.9999999999998]}, {'id': 139, 'image_id': 89, 'category_id': 2, 'bbox': [1039.5238, 1186.8572, 529.0, 971.0]}, {'id': 140, 'image_id': 90, 'category_id': 2, 'bbox': [875.9999999999999, 775.0, 267.0000000000001, 665.0]}, {'id': 141, 'image_id': 90, 'category_id': 2, 'bbox': [1362.9999999999998, 2133.0, 292.0, 570.0]}, {'id': 142, 'image_id': 91, 'category_id': 2, 'bbox': [946.0, 2079.0, 498.0, 207.0]}, {'id': 143, 'image_id': 92, 'category_id': 2, 'bbox': [2268.0, 2691.0, 148.0, 419.0]}, {'id': 144, 'image_id': 93, 'category_id': 2, 'bbox': [1282.9999999999998, 1042.9999999999998, 94.00000000000023, 288.0000000000002]}, {'id': 145, 'image_id': 94, 'category_id': 2, 'bbox': [665.7619, 2077.8572, 107.0, 97.0]}, {'id': 146, 'image_id': 94, 'category_id': 2, 'bbox': [726.0, 2120.7144, 116.0, 137.0]}, {'id': 147, 'image_id': 95, 'category_id': 2, 'bbox': [890.0, 2505.0, 118.0, 188.0]}, {'id': 148, 'image_id': 95, 'category_id': 2, 'bbox': [749.0, 2488.0, 126.0, 163.0]}, {'id': 149, 'image_id': 96, 'category_id': 2, 'bbox': [857.0, 1155.0, 147.0, 385.0]}, {'id': 150, 'image_id': 97, 'category_id': 2, 'bbox': [1356.0, 2117.0, 197.0, 104.0]}, {'id': 151, 'image_id': 98, 'category_id': 2, 'bbox': [1459.0, 1094.0, 232.0, 270.0]}, {'id': 152, 'image_id': 99, 'category_id': 2, 'bbox': [354.0, 575.0, 294.0, 621.0]}, {'id': 153, 'image_id': 99, 'category_id': 2, 'bbox': [776.0, 355.0, 231.0, 591.0]}, {'id': 154, 'image_id': 100, 'category_id': 2, 'bbox': [1125.0, 1858.0, 234.0, 510.0]}]\n"
     ]
    }
   ],
   "source": [
    "print(final_data['annotations'])"
   ]
  },
  {
   "cell_type": "code",
   "execution_count": 185,
   "metadata": {},
   "outputs": [],
   "source": [
    "# Save to JSON file\n",
    "with open('datasets\\\\coco_dataset\\\\annotations_coco.json', 'w') as f:\n",
    "    json.dump(final_data, f)"
   ]
  }
 ],
 "metadata": {
  "kernelspec": {
   "display_name": "venv",
   "language": "python",
   "name": "python3"
  },
  "language_info": {
   "codemirror_mode": {
    "name": "ipython",
    "version": 3
   },
   "file_extension": ".py",
   "mimetype": "text/x-python",
   "name": "python",
   "nbconvert_exporter": "python",
   "pygments_lexer": "ipython3",
   "version": "3.10.11"
  }
 },
 "nbformat": 4,
 "nbformat_minor": 2
}
